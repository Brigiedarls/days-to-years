{
 "cells": [
  {
   "cell_type": "code",
   "execution_count": 12,
   "id": "6b44482e",
   "metadata": {},
   "outputs": [],
   "source": [
    "day=24*1\n",
    "week=24*7\n",
    "year=24*365\n",
    "\n",
    "\n"
   ]
  },
  {
   "cell_type": "code",
   "execution_count": 13,
   "id": "d785b111",
   "metadata": {},
   "outputs": [],
   "source": [
    "name=('what is the amount of days in years')"
   ]
  },
  {
   "cell_type": "code",
   "execution_count": 14,
   "id": "b00ac771",
   "metadata": {},
   "outputs": [
    {
     "name": "stdout",
     "output_type": "stream",
     "text": [
      "days,years\n"
     ]
    }
   ],
   "source": [
    "print('days,years')"
   ]
  },
  {
   "cell_type": "code",
   "execution_count": 15,
   "id": "02bf5e3c",
   "metadata": {},
   "outputs": [
    {
     "ename": "SyntaxError",
     "evalue": "invalid syntax (Temp/ipykernel_10824/3767236510.py, line 1)",
     "output_type": "error",
     "traceback": [
      "\u001b[1;36m  File \u001b[1;32m\"C:\\Users\\DUROWOJU\\AppData\\Local\\Temp/ipykernel_10824/3767236510.py\"\u001b[1;36m, line \u001b[1;32m1\u001b[0m\n\u001b[1;33m    int(input)year\u001b[0m\n\u001b[1;37m              ^\u001b[0m\n\u001b[1;31mSyntaxError\u001b[0m\u001b[1;31m:\u001b[0m invalid syntax\n"
     ]
    }
   ],
   "source": [
    "int(input)year"
   ]
  },
  {
   "cell_type": "code",
   "execution_count": null,
   "id": "549e91da",
   "metadata": {},
   "outputs": [],
   "source": []
  }
 ],
 "metadata": {
  "kernelspec": {
   "display_name": "Python 3 (ipykernel)",
   "language": "python",
   "name": "python3"
  },
  "language_info": {
   "codemirror_mode": {
    "name": "ipython",
    "version": 3
   },
   "file_extension": ".py",
   "mimetype": "text/x-python",
   "name": "python",
   "nbconvert_exporter": "python",
   "pygments_lexer": "ipython3",
   "version": "3.9.7"
  }
 },
 "nbformat": 4,
 "nbformat_minor": 5
}
